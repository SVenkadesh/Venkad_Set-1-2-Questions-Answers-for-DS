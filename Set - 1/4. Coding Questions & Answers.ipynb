{
 "cells": [
  {
   "cell_type": "code",
   "execution_count": 18,
   "id": "e32fd96d-7322-48da-ac38-7fdac850d111",
   "metadata": {},
   "outputs": [
    {
     "name": "stdout",
     "output_type": "stream",
     "text": [
      "Total Purchases per Customer:\n",
      "              Purchase_Amount\n",
      "Customer_ID                 \n",
      "101                      520\n",
      "102                      600\n",
      "103                      480\n",
      "104                      300\n",
      "105                      400\n",
      "Top 3 Frequent Customers:\n",
      "              Purchase_Amount\n",
      "Customer_ID                 \n",
      "102                      600\n",
      "101                      520\n",
      "103                      480\n"
     ]
    }
   ],
   "source": [
    "#A retail store wants to identify customers who make frequent purchases. Given the dataset below, write a code to:\n",
    "#1.\tGroup customers by their IDs.\n",
    "#2.\tCalculate the total number of purchases per customer.\n",
    "#3.\tIdentify the top 3 frequent customers.\n",
    "\n",
    "import pandas as pd\n",
    "import numpy as np\n",
    "\n",
    "data = {'Customer_ID': [101, 102, 103, 101, 104, 102, 101, 105, 102, 103],\n",
    "        'Purchase_Amount': [200, 150, 180, 220, 300, 200, 100, 400, 250, 300]}\n",
    "data = pd.DataFrame(data)\n",
    "group = data.groupby(['Customer_ID']).sum()\n",
    "print('Total Purchases per Customer:\\n',group)\n",
    "Freq = group.nlargest(3,'Purchase_Amount')\n",
    "print('Top 3 Frequent Customers:\\n',Freq)"
   ]
  },
  {
   "cell_type": "code",
   "execution_count": 72,
   "id": "d4c646f2-7e08-42b5-a81a-4d535c17677c",
   "metadata": {},
   "outputs": [
    {
     "name": "stdout",
     "output_type": "stream",
     "text": [
      "Q1:31.5, Q3:83.75\n",
      "IQR:  52.25\n",
      "Lower:  -46.875\n",
      "Upper:  162.125\n",
      "\n",
      "Outlier Detected: \n",
      "     Day  Sales\n",
      "29   30    200\n",
      "\n",
      "After replaced Outlier: \n",
      "     Day  Sales\n",
      "0     1   25.0\n",
      "1     2   30.0\n",
      "2     3   28.0\n",
      "3     4   45.0\n",
      "4     5   55.0\n",
      "5     6   60.0\n",
      "6     7   22.0\n",
      "7     8   80.0\n",
      "8     9   95.0\n",
      "9    10  120.0\n",
      "10   11   33.0\n",
      "11   12   29.0\n",
      "12   13   27.0\n",
      "13   14   35.0\n",
      "14   15   40.0\n",
      "15   16   50.0\n",
      "16   17   85.0\n",
      "17   18  110.0\n",
      "18   19  105.0\n",
      "19   20   92.0\n",
      "20   21   30.0\n",
      "21   22   34.0\n",
      "22   23   31.0\n",
      "23   24   33.0\n",
      "24   25   36.0\n",
      "25   26   42.0\n",
      "26   27   44.0\n",
      "27   28   48.0\n",
      "28   29   90.0\n",
      "29   30   43.0\n"
     ]
    }
   ],
   "source": [
    "#A company tracks the daily sales of a product over a month. You are tasked with identifying any abnormal sales data using the IQR (Interquartile Range) method.\n",
    "#1. Calculate the Q1 (25th percentile) and Q3 (75th percentile).\n",
    "#2. Determine the IQR.\n",
    "#3. Identify the Lower Bound and Upper Bound.\n",
    "#4. Detect and display the outliers.\n",
    "#5. Replace the Outliers with the Median Value.\n",
    "\n",
    "\n",
    "\n",
    "import pandas as pd\n",
    "import numpy as np\n",
    "data = {'Day': range(1, 31),\n",
    "        'Sales': [25, 30, 28, 45, 55, 60, 22, 80, 95, 120,\n",
    "                  33, 29, 27, 35, 40, 50, 85, 110, 105, 92,\n",
    "                  30, 34, 31, 33, 36, 42, 44, 48, 90, 200]}\n",
    "\n",
    "data = pd.DataFrame(data)\n",
    "\n",
    "#1. Calculate the Q1 (25th percentile) and Q3 (75th percentile).\n",
    "q1, q3 = np.percentile(data['Sales'],[25,75])\n",
    "print(f'Q1:{q1}, Q3:{q3}')\n",
    "\n",
    "#2. Determine the IQR.\n",
    "#Formula IQR = Q3-Q1\n",
    "IQR = q3 - q1\n",
    "print('IQR: ',IQR)\n",
    "\n",
    "#3. Identify the Lower Bound and Upper Bound.\n",
    "# Lower Formula = Q1 - 1.5*IQR\n",
    "Lower = q1 - (1.5*IQR)\n",
    "print('Lower: ',Lower)\n",
    "\n",
    "# Upper Formula = Q3 + 1.5*IQR\n",
    "Upper = q3 + (1.5*IQR)\n",
    "print('Upper: ',Upper)\n",
    "\n",
    "#4. Detect and display the outliers.\n",
    "outlier = data[(data['Sales']<Lower) | (data['Sales']>Upper)]\n",
    "print(\"\\nOutlier Detected: \\n\",outlier)\n",
    "\n",
    "#5. Replace the Outliers with the Median Value.\n",
    "median = data['Sales'].median()\n",
    "data['Sales'] = np.where((data['Sales']<Lower) | (data['Sales']>Upper),median,data['Sales'])\n",
    "print(\"\\nAfter replaced Outlier: \\n\",data)"
   ]
  },
  {
   "cell_type": "code",
   "execution_count": 27,
   "id": "bb8c7914-bd78-40b4-8a2c-dc3b82e6a7dd",
   "metadata": {},
   "outputs": [
    {
     "name": "stdout",
     "output_type": "stream",
     "text": [
      "statistic:-11.870553692962726 \n",
      "pvalue:6.008066605173374e-10\n",
      "Reject the Null Hypothesis: The drug has a significant effect.\n"
     ]
    }
   ],
   "source": [
    "# A pharmaceutical company is testing the effectiveness of a new drug to reduce blood pressure. Two groups of patients were selected:\n",
    "# Group 1 (Treatment): Received the drug\n",
    "# Group 2 (Control): Received a placebo\n",
    "# The company wants to check if there is a significant difference in the blood pressure levels between the two groups using an Independent T-Test.\n",
    "\n",
    "import pandas as pd\n",
    "from scipy.stats import ttest_ind\n",
    "data = {'Group': ['Treatment']*10 + ['Control']*10,\n",
    "        'Blood_Pressure': [120, 115, 118, 123, 122, 119, 124, 117, 116, 121,\n",
    "                            130, 135, 140, 138, 142, 136, 139, 134, 137, 141]}\n",
    "\n",
    "data = pd.DataFrame(data)\n",
    "\n",
    "# spliting groups\n",
    "Treatment = data[data['Group']=='Treatment']['Blood_Pressure']\n",
    "Control = data[data['Group']=='Control']['Blood_Pressure']\n",
    "# Perform Independent T-Test\n",
    "statistic, pvalue= ttest_ind(Treatment,Control)\n",
    "print(f'statistic:{statistic} \\npvalue:{pvalue}')\n",
    "\n",
    "# conclusion\n",
    "\n",
    "alpha = 0.05\n",
    "if (pvalue < alpha):\n",
    "        print(\"Reject the Null Hypothesis: The drug has a significant effect.\")\n",
    "else:\n",
    "    print(\"Fail to Reject the Null Hypothesis: The drug has no significant effect.\")"
   ]
  },
  {
   "cell_type": "code",
   "execution_count": 47,
   "id": "1d67561b-25b6-43f6-b26b-b8fa93a39410",
   "metadata": {},
   "outputs": [],
   "source": [
    "#GlobalMart is a large retailer conducting advertisement campaigns in different regions. The company spends money on two types of advertisements: TV Ads and Social Media Ads\n",
    "#They want to analyze how these ads influence their sales.\n",
    "#Your task is to calculate the Covariance and Correlation to determine which type of ad has a stronger impact on sales.\n",
    "#Tasks :\n",
    "#1.\tCalculate the Covariance between ad budgets and sales to measure the direction of the relationship.\n",
    "#2.\tCalculate the Correlation to measure the strength of the relationship.\n",
    "#3.\tDetermine which type of ad is more effective for increasing sales.\n",
    "\n",
    "import pandas as pd\n",
    "\n",
    "data = {\n",
    "    'Region' : ['North','South','East','West','Central'],\n",
    "    'TV_Ad_Budget' : [200,300,400,500,600],\n",
    "    'Social_Media_Budget': [150,250,300,450,500],\n",
    "    'sales': [20,35,50,60,80]\n",
    "}\n",
    "\n",
    "data = pd.DataFrame(data)"
   ]
  },
  {
   "cell_type": "code",
   "execution_count": 65,
   "id": "bc352cda-21b2-4c55-b3bf-249f4376d4b0",
   "metadata": {},
   "outputs": [
    {
     "name": "stdout",
     "output_type": "stream",
     "text": [
      "Covariance (TV vs Sales): 3625.0\n",
      "Covariance (Social Media vs Sales): 3225.0\n",
      "Correlation (TV vs Sales): 0.9958640886279954\n",
      "Correlation (Social Media vs Sales): 0.9724846021568381\n",
      "TV Ads have a stronger impact on Sales.\n"
     ]
    }
   ],
   "source": [
    "# Calculate Covariance\n",
    "cov_tv = data['TV_Ad_Budget'].cov(data['sales'])\n",
    "cov_media = data['Social_Media_Budget'].cov(data['sales'])\n",
    "\n",
    "print(f\"Covariance (TV vs Sales): {cov_tv}\\nCovariance (Social Media vs Sales): {cov_media}\")\n",
    "\n",
    "\n",
    "# Calculate Correlation\n",
    "corr_tv = data['TV_Ad_Budget'].corr(data['sales'])\n",
    "corr_media = data['Social_Media_Budget'].corr(data['sales'])\n",
    "\n",
    "print(f\"Correlation (TV vs Sales): {corr_tv}\\nCorrelation (Social Media vs Sales): {corr_media}\")\n",
    "\n",
    "# Conclusion\n",
    "if abs(corr_tv) > abs(corr_media):\n",
    "    print(\"TV Ads have a stronger impact on Sales.\")\n",
    "else:\n",
    "    print(\"Social Media Ads have a stronger impact on Sales.\")"
   ]
  },
  {
   "cell_type": "code",
   "execution_count": 97,
   "id": "b65c1527-c4d2-41c3-9a2f-3be335331053",
   "metadata": {},
   "outputs": [
    {
     "name": "stdout",
     "output_type": "stream",
     "text": [
      "Mean Delivery Time: 65.0625\n",
      "Standard Deviation of Delivery Time: 41.718504212759115\n"
     ]
    },
    {
     "data": {
      "image/png": "[encoded data removed]",
      "text/plain": [
       "<Figure size 1000x500 with 1 Axes>"
      ]
     },
     "metadata": {},
     "output_type": "display_data"
    }
   ],
   "source": [
    "# A company tracks the delivery time (in minutes) for its online orders. You are given the delivery times for 50 orders.\n",
    "#●\tCalculate the mean and standard deviation of the delivery times.\n",
    "#●\tPlot the Probability Density Function (PDF) to visualize the distribution.\n",
    "\n",
    "import numpy as np\n",
    "import matplotlib.pyplot as plt\n",
    "from scipy.stats import norm\n",
    "\n",
    "delivery_times= [25, 30, 28, 45, 55, 60, 22, 80, 95, 120, 33, 29, 27, 35, 40, 50, 85, 110, 105, 92, 30, 34, 31, 33, 36, 42, 44, 48, 90, 200, 20, 25, 27, 32, 38, 41, 47, 58, 62, 77, 80, 84, 90, 110, 123, 145, 150, 160]\n",
    "\n",
    "mean = np.mean(delivery_times)\n",
    "std_dev = np.std(delivery_times)\n",
    "print(f\"Mean Delivery Time: {mean}\")\n",
    "print(f\"Standard Deviation of Delivery Time: {std_dev}\")\n",
    "\n",
    "# Plotting PDF\n",
    "x = np.linspace(min(delivery_times),max(delivery_times),100)\n",
    "pdf = norm.pdf(x,mean,std_dev)\n",
    "plt.figure(figsize=(10, 5))\n",
    "plt.plot(x, pdf, color='Yellow', label='Normal Distribution (PDF)')\n",
    "plt.xlabel('Delivery Time (minutes)')\n",
    "plt.ylabel('Density')\n",
    "plt.title('Probability Density Function (PDF)')\n",
    "plt.legend()\n",
    "plt.show()"
   ]
  },
  {
   "cell_type": "code",
   "execution_count": null,
   "id": "ebb671f4-675a-46c6-a99b-3553e0b506d7",
   "metadata": {},
   "outputs": [],
   "source": []
  }
 ],
 "metadata": {
  "kernelspec": {
   "display_name": "Python 3 (ipykernel)",
   "language": "python",
   "name": "python3"
  },
  "language_info": {
   "codemirror_mode": {
    "name": "ipython",
    "version": 3
   },
   "file_extension": ".py",
   "mimetype": "text/x-python",
   "name": "python",
   "nbconvert_exporter": "python",
   "pygments_lexer": "ipython3",
   "version": "3.11.5"
  }
 },
 "nbformat": 4,
 "nbformat_minor": 5
}
