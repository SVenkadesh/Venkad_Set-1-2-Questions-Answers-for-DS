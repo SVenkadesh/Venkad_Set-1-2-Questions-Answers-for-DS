{
 "cells": [
  {
   "cell_type": "code",
   "execution_count": 70,
   "id": "f680d607-70fd-441a-9e73-f54c5972d736",
   "metadata": {},
   "outputs": [
    {
     "name": "stdout",
     "output_type": "stream",
     "text": [
      "Q1:42.5, Q3:77.5, IQR:73.75, Lower_Bound: -31.25, Upper_Bound:151.25\n"
     ]
    }
   ],
   "source": [
    "import numpy as np\n",
    "\n",
    "df =  [25, 30, 35, 40, 45, 50, 55, 60, 65, 70, 75, 80, 85, 90, 95]\n",
    "q1, q3 = np.percentile(df,[25,75])\n",
    "IQR = 1.5*q3-q1\n",
    "Lower_Bound = q1-IQR\n",
    "Upper_Bound = q3+IQR\n",
    "\n",
    "print(f'Q1:{q1}, Q3:{q3}, IQR:{IQR}, Lower_Bound: {Lower_Bound}, Upper_Bound:{Upper_Bound}')\n",
    "# Here no outliers"
   ]
  },
  {
   "cell_type": "code",
   "execution_count": 75,
   "id": "194b8259-322f-4d54-b5e1-315f7b84472b",
   "metadata": {},
   "outputs": [
    {
     "name": "stdout",
     "output_type": "stream",
     "text": [
      "Mean:64.5, Median:61.0, Mode:0    60\n",
      "Name: 0, dtype: int64\n"
     ]
    }
   ],
   "source": [
    "# Question 1: Calculate the mean, median, and mode of the scores.\n",
    "# Question 2:  Explain why the median might be a better representation than the mean in this case.\n",
    "import numpy as np\n",
    "import pandas as pd\n",
    "df = [45, 50, 55, 60, 60, 62, 63, 65, 90, 95]\n",
    "data = pd.DataFrame(df)\n",
    "mean = np.mean(df)\n",
    "median = np.median(df)\n",
    "mode = data.mode()\n",
    "print(f'Mean:{mean}, Median:{median}, Mode:{mode[0]}')"
   ]
  },
  {
   "cell_type": "code",
   "execution_count": 64,
   "id": "a6574911-0434-4b03-a355-64bf927f6662",
   "metadata": {},
   "outputs": [
    {
     "name": "stdout",
     "output_type": "stream",
     "text": [
      "Frequency Values are: [2 2 1 1 1 1 1 1]\n"
     ]
    }
   ],
   "source": [
    "# Question 1: Create a frequency distribution table for this data.\n",
    "\n",
    "import pandas as pd\n",
    "import numpy as np\n",
    "df = [5, 10, 8, 15, 20, 5, 12, 14, 10, 18]\n",
    "df = pd.DataFrame(df)\n",
    "Frequency = df.value_counts().values\n",
    "print('Frequency Values are:', Frequency)"
   ]
  },
  {
   "cell_type": "code",
   "execution_count": 99,
   "id": "2e1fa782-9e93-4e0f-8bfa-daaa88b884e5",
   "metadata": {},
   "outputs": [
    {
     "data": {
      "text/html": [
       "<div>\n",
       "<style scoped>\n",
       "    .dataframe tbody tr th:only-of-type {\n",
       "        vertical-align: middle;\n",
       "    }\n",
       "\n",
       "    .dataframe tbody tr th {\n",
       "        vertical-align: top;\n",
       "    }\n",
       "\n",
       "    .dataframe thead th {\n",
       "        text-align: right;\n",
       "    }\n",
       "</style>\n",
       "<table border=\"1\" class=\"dataframe\">\n",
       "  <thead>\n",
       "    <tr style=\"text-align: right;\">\n",
       "      <th></th>\n",
       "      <th>0</th>\n",
       "    </tr>\n",
       "  </thead>\n",
       "  <tbody>\n",
       "    <tr>\n",
       "      <th>0</th>\n",
       "      <td>4</td>\n",
       "    </tr>\n",
       "  </tbody>\n",
       "</table>\n",
       "</div>"
      ],
      "text/plain": [
       "   0\n",
       "0  4"
      ]
     },
     "execution_count": 99,
     "metadata": {},
     "output_type": "execute_result"
    }
   ],
   "source": [
    "import pandas as pd\n",
    "import numpy as np\n",
    "\n",
    "df = [5, 4, 4, 5, 3, 4, 5, 2, 4, 3]\n",
    "df=pd.DataFrame(df)\n",
    "\n",
    "df.mode()"
   ]
  },
  {
   "cell_type": "code",
   "execution_count": null,
   "id": "bd787535-dee3-46e7-af26-9fd160fd05f2",
   "metadata": {},
   "outputs": [],
   "source": []
  }
 ],
 "metadata": {
  "kernelspec": {
   "display_name": "Python 3 (ipykernel)",
   "language": "python",
   "name": "python3"
  },
  "language_info": {
   "codemirror_mode": {
    "name": "ipython",
    "version": 3
   },
   "file_extension": ".py",
   "mimetype": "text/x-python",
   "name": "python",
   "nbconvert_exporter": "python",
   "pygments_lexer": "ipython3",
   "version": "3.11.5"
  }
 },
 "nbformat": 4,
 "nbformat_minor": 5
}
