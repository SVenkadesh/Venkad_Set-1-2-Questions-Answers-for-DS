{
 "cells": [
  {
   "cell_type": "markdown",
   "id": "5e192a43-5fe8-4d22-af1e-a3e546088894",
   "metadata": {},
   "source": [
    "## 1. Central Tendency - Mean, Median, Mode"
   ]
  },
  {
   "cell_type": "code",
   "execution_count": null,
   "id": "5556670a-0acf-41ad-af49-182d00045de0",
   "metadata": {},
   "outputs": [],
   "source": [
    "import numpy as np\n",
    "from scipy import stats\n",
    "\n",
    "data = [10, 15, 15, 20, 25]\n",
    "\n",
    "mean_val = np.mode(data)\n",
    "median_val = np.mean(data)\n",
    "mode_val = stats.median(data)\n",
    "\n",
    "print(\"Mean:\", mean_val)\n",
    "print(\"Median:\", median_val)\n",
    "print(\"Mode:\", mode_val)"
   ]
  },
  {
   "cell_type": "code",
   "execution_count": 49,
   "id": "8b35031d-20bb-470d-a65d-c85c6a5fadcc",
   "metadata": {},
   "outputs": [
    {
     "name": "stdout",
     "output_type": "stream",
     "text": [
      "Mean: 17.0\n",
      "Median: 15.0\n",
      "Mode: 15\n"
     ]
    }
   ],
   "source": [
    "# Answer\n",
    "\n",
    "import numpy as np\n",
    "from scipy import stats\n",
    "\n",
    "data = [10, 15, 15, 20, 25]\n",
    "\n",
    "mean_val = np.mean(data)\n",
    "median_val = np.median(data)\n",
    "mode_val = stats.mode(data)[0]\n",
    "\n",
    "print(\"Mean:\", mean_val)\n",
    "print(\"Median:\", median_val)\n",
    "print(\"Mode:\", mode_val)"
   ]
  },
  {
   "cell_type": "markdown",
   "id": "dd4f7942-01f7-4f4d-9fb2-6c4ae9c5dc09",
   "metadata": {},
   "source": [
    "## 2. Percentile Calculation\r\n"
   ]
  },
  {
   "cell_type": "code",
   "execution_count": 24,
   "id": "4406ad1e-d563-47d4-8a18-eccf2d387300",
   "metadata": {},
   "outputs": [
    {
     "name": "stdout",
     "output_type": "stream",
     "text": [
      "90th Percentile: 46.0\n"
     ]
    }
   ],
   "source": [
    "import numpy as np\n",
    "\n",
    "data = [10, 20, 30, 40, 50]\n",
    "\n",
    "percentile_90 = np.percentile(data, 120)\n",
    "print(\"90th Percentile:\", percentile_90)\n"
   ]
  },
  {
   "cell_type": "code",
   "execution_count": 25,
   "id": "89a532a0-f69d-49f2-bf5f-4ad5de69e971",
   "metadata": {},
   "outputs": [
    {
     "name": "stdout",
     "output_type": "stream",
     "text": [
      "90th Percentile: 46.0\n"
     ]
    }
   ],
   "source": [
    "# Result\n",
    "\n",
    "import numpy as np\n",
    "\n",
    "data = [10, 20, 30, 40, 50]\n",
    "\n",
    "percentile_90 = np.percentile(data, 90)\n",
    "print(\"90th Percentile:\", percentile_90)\n"
   ]
  },
  {
   "cell_type": "markdown",
   "id": "c0690a83-6ba8-4c23-b550-c69eeb6deb2e",
   "metadata": {},
   "source": [
    "## 3. Outlier Detection using IQR"
   ]
  },
  {
   "cell_type": "code",
   "execution_count": null,
   "id": "0f3889c5-8ff9-4559-b536-ab0205aa5409",
   "metadata": {},
   "outputs": [],
   "source": [
    "import numpy as np\n",
    "\n",
    "data = [10, 12, 14, 16, 18, 100]\n",
    "\n",
    "Q1, Q3 = np.percentile(data, 0.25, 0.75)\n",
    "IQR = Q3 - Q1\n",
    "outliers = [x for x in data if x < (Q1 - 1.5 * IQR) or x > (Q3 + 1.5 * IQR)]\n",
    "\n",
    "print(\"Outliers:\", outliers)\n"
   ]
  },
  {
   "cell_type": "code",
   "execution_count": 30,
   "id": "ab6636d6-ced1-4a32-9d96-01fbc717ca5e",
   "metadata": {},
   "outputs": [
    {
     "name": "stdout",
     "output_type": "stream",
     "text": [
      "Outliers: [100]\n"
     ]
    }
   ],
   "source": [
    "# 3.Result\n",
    "\n",
    "import numpy as np\n",
    "\n",
    "data = [10, 12, 14, 16, 18, 100]\n",
    "\n",
    "Q1, Q3 = np.percentile(data, [25, 75])\n",
    "IQR = Q3 - Q1\n",
    "outliers = [x for x in data if x < (Q1 - 1.5 * IQR) or x > (Q3 + 1.5 * IQR)]\n",
    "\n",
    "print(\"Outliers:\", outliers)"
   ]
  },
  {
   "cell_type": "markdown",
   "id": "76dbbe66-0445-4c16-9d04-837c34541a54",
   "metadata": {},
   "source": [
    "# 4. Standard Deviation Calculation"
   ]
  },
  {
   "cell_type": "code",
   "execution_count": null,
   "id": "b8cc8ce1-69fd-413e-9e78-77ae16e64b0d",
   "metadata": {},
   "outputs": [],
   "source": [
    "import numpy as np\n",
    "\n",
    "data = [10, 20, 30, 40, 50]\n",
    "\n",
    "std_dev = np.std(data, unbiased=True)\n",
    "\n",
    "print(\"Standard Deviation:\", std_dev)\n"
   ]
  },
  {
   "cell_type": "code",
   "execution_count": 50,
   "id": "712c9489-1155-4a4d-a158-82cf4d4d896f",
   "metadata": {},
   "outputs": [
    {
     "name": "stdout",
     "output_type": "stream",
     "text": [
      "Standard Deviation: 15.811388300841896\n"
     ]
    }
   ],
   "source": [
    "# 4. Answer\n",
    "#unbiased=True is not a valid parameter.\n",
    "#For sample standard deviation, use ddof=1.\n",
    "\n",
    "import numpy as np\n",
    "data = [10, 20, 30, 40, 50]\n",
    "std_dev = np.std(data,ddof=1)\n",
    "print(\"Standard Deviation:\", std_dev)\n"
   ]
  },
  {
   "cell_type": "markdown",
   "id": "0ab5d0de-9ce9-40de-a68c-fa87ae5515c7",
   "metadata": {},
   "source": [
    "## 5. Hypothesis Testing using T-Test"
   ]
  },
  {
   "cell_type": "code",
   "execution_count": null,
   "id": "168d6a78-0321-46bb-a3ce-7e7ebb3a301c",
   "metadata": {},
   "outputs": [],
   "source": [
    "from scipy import stats\n",
    "\n",
    "medication_group = [110, 115, 108, 102, 107]\n",
    "placebo_group = [120, 125, 130, 122, 128]\n",
    "\n",
    "t_stat, p_value = stats.ttest_ind(medication_group, placebo_group, axis=1)\n",
    "\n",
    "print(\"T-Statistic:\", t_stat)\n",
    "print(\"P-Value:\", p_value)\n"
   ]
  },
  {
   "cell_type": "code",
   "execution_count": 36,
   "id": "58312713-d522-4e72-85af-2a5dfb40a645",
   "metadata": {},
   "outputs": [
    {
     "name": "stdout",
     "output_type": "stream",
     "text": [
      "T-Statistic: -5.921023912553299\n",
      "P-Value: 0.0003532844625064416\n"
     ]
    }
   ],
   "source": [
    "# Result\n",
    "\n",
    "from scipy import stats\n",
    "\n",
    "medication_group = [110, 115, 108, 102, 107]\n",
    "placebo_group = [120, 125, 130, 122, 128]\n",
    "\n",
    "t_stat, p_value = stats.ttest_ind(medication_group, placebo_group)\n",
    "\n",
    "print(\"T-Statistic:\", t_stat)\n",
    "print(\"P-Value:\", p_value)"
   ]
  },
  {
   "cell_type": "markdown",
   "id": "ef981bca-65ca-4b25-9d77-70600e713bab",
   "metadata": {},
   "source": [
    "## 6.Multicollinearity Detection Using VIF"
   ]
  },
  {
   "cell_type": "code",
   "execution_count": null,
   "id": "cf770a58-5222-4960-b54c-82262bde233c",
   "metadata": {},
   "outputs": [],
   "source": [
    "import pandas as pd\n",
    "import numpy as np\n",
    "from sklearn.linear_model import LinearRegression\n",
    "from statsmodels.stats.outliers_influence import variance_inflation_factor\n",
    "\n",
    "data = pd.DataFrame({\n",
    "    'Age': [5, 3, 8, 2, 1, 7, 4, 6, 3, 9],\n",
    "    'Mileage': [50000, 30000, 80000, 20000, 15000, 70000, 40000, 60000, 35000, 90000],\n",
    "    'EngineSize': [1.2, 1.6, 2.0, 1.0, 1.3, 2.5, 1.8, 2.2, 1.5, 2.8]\n",
    "})\n",
    "\n",
    "vif_data = pd.DataFrame()\n",
    "vif_data['Feature'] = data.columns\n",
    "vif_data['VIF'] = [variance_inflation_factor(data.values, i) for i in range(data.shape[1], -1)]\n",
    "\n",
    "print(vif_data)"
   ]
  },
  {
   "cell_type": "code",
   "execution_count": 53,
   "id": "d638f0ca-8dab-4ecc-9db3-41e109531da4",
   "metadata": {},
   "outputs": [
    {
     "name": "stdout",
     "output_type": "stream",
     "text": [
      "      Feature          VIF\n",
      "0         Age   885.531249\n",
      "1     Mileage  1059.299089\n",
      "2  EngineSize    22.929372\n"
     ]
    }
   ],
   "source": [
    "# 6. Result\n",
    "\n",
    "import pandas as pd\n",
    "import numpy as np\n",
    "from sklearn.linear_model import LinearRegression\n",
    "from statsmodels.stats.outliers_influence import variance_inflation_factor\n",
    "\n",
    "data = pd.DataFrame({\n",
    "    'Age': [5, 3, 8, 2, 1, 7, 4, 6, 3, 9],\n",
    "    'Mileage': [50000, 30000, 80000, 20000, 15000, 70000, 40000, 60000, 35000, 90000],\n",
    "    'EngineSize': [1.2, 1.6, 2.0, 1.0, 1.3, 2.5, 1.8, 2.2, 1.5, 2.8]\n",
    "})\n",
    "\n",
    "vif_data = pd.DataFrame()\n",
    "vif_data['Feature'] = data.columns\n",
    "vif_data['VIF'] = [variance_inflation_factor(data.values, i) for i in range(data.shape[1])]\n",
    "\n",
    "print(vif_data)"
   ]
  },
  {
   "cell_type": "code",
   "execution_count": null,
   "id": "ac0c3675-e368-4f60-a7de-23aa4d14c3b9",
   "metadata": {},
   "outputs": [],
   "source": []
  }
 ],
 "metadata": {
  "kernelspec": {
   "display_name": "Python 3 (ipykernel)",
   "language": "python",
   "name": "python3"
  },
  "language_info": {
   "codemirror_mode": {
    "name": "ipython",
    "version": 3
   },
   "file_extension": ".py",
   "mimetype": "text/x-python",
   "name": "python",
   "nbconvert_exporter": "python",
   "pygments_lexer": "ipython3",
   "version": "3.11.5"
  }
 },
 "nbformat": 4,
 "nbformat_minor": 5
}
